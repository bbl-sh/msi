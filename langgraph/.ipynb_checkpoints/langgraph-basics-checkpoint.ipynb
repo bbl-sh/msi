{
 "cells": [
  {
   "cell_type": "markdown",
   "id": "5d716ffc-bf08-4411-bd49-3dd8a0182e9f",
   "metadata": {},
   "source": [
    "### Langgraph basics "
   ]
  },
  {
   "cell_type": "code",
   "execution_count": 1,
   "id": "4339a485-acc3-4e55-809b-ebe19f5477ff",
   "metadata": {},
   "outputs": [
    {
     "name": "stdout",
     "output_type": "stream",
     "text": [
      "Requirement already satisfied: typing in /home/aditya/python-env/lib/python3.12/site-packages (3.7.4.3)\n"
     ]
    }
   ],
   "source": [
    "import langchain\n",
    "!pip install typing"
   ]
  },
  {
   "cell_type": "markdown",
   "id": "ec90c1d7-49d3-4bd8-a797-ce363787968b",
   "metadata": {},
   "source": [
    "#### Defining Agent State"
   ]
  },
  {
   "cell_type": "code",
   "execution_count": 3,
   "id": "9989d1a9-f34e-4346-a9d6-560cb7c394ac",
   "metadata": {},
   "outputs": [],
   "source": [
    "from typing import TypedDict\n",
    "\n",
    "class GraphState(TypedDict):\n",
    "    input_taken: int\n",
    "    assigned_node: int\n",
    "    previous_node: str"
   ]
  },
  {
   "cell_type": "markdown",
   "id": "b368f9ea-9b9c-4d1e-893b-64677c0f1b0c",
   "metadata": {},
   "source": [
    "#### Defining our Nodes"
   ]
  },
  {
   "cell_type": "code",
   "execution_count": 6,
   "id": "8885261b-1c34-489c-ae07-e508cddd611b",
   "metadata": {},
   "outputs": [],
   "source": [
    "import random \n",
    "\n",
    "def decider(state):\n",
    "    node_num = random.randint(1, 2)\n",
    "    return dict(input_taken = state['input_taken'],\n",
    "                assigned_node = node_num,\n",
    "                previous_node = \"decider\"\n",
    "               )\n",
    "\n",
    "def node1(state):\n",
    "    return dict(input_taken = state['input_taken'],\n",
    "                assigned_node = 1 if 'node 1' in state['input'].content else 2,\n",
    "                previous_node = \"node 1\"\n",
    "               )\n",
    "def node2(state):\n",
    "    return dict(input_taken = state['input_taken'],\n",
    "                assigned_node = 2 if 'node 2' in state['input'].content else 1,\n",
    "                previous_node = \"node 2\"\n",
    "               )\n"
   ]
  },
  {
   "cell_type": "markdown",
   "id": "c4801bda-3438-49f2-872d-ddadb90d037b",
   "metadata": {},
   "source": [
    "#### Defining our Edges"
   ]
  },
  {
   "cell_type": "code",
   "execution_count": 10,
   "id": "cf734b25-27b3-4faa-98b4-2d9c4c2bbdcb",
   "metadata": {},
   "outputs": [],
   "source": [
    "from typing import Literal\n",
    "from langgraph.graph import END\n",
    "\n",
    "def decider_node_assigner(state)-> Literal['node 1', 'node 2']:\n",
    "    assigned_node = state['assigned_node']\n",
    "    if assigned_node == 1:\n",
    "        return \"node 1\"\n",
    "    elif assigned_node == 2:\n",
    "        return \"node 2\"\n",
    "\n",
    "def reassign1(state) -> Literal['node 2', END]:\n",
    "    assigned_node = state['assigned_node']\n",
    "    if assigned_node != 1 :\n",
    "        return \"node 2\"\n",
    "    return END\n",
    "\n",
    "def reassign2(state) -> Literal['node 1', END]:\n",
    "    assigned_node = state['assigned_node']\n",
    "    if assigned_node != 1 :\n",
    "        return \"node 1\"\n",
    "    return END"
   ]
  },
  {
   "cell_type": "markdown",
   "id": "beff9288-0c6d-45ca-b05a-76f22c0e0153",
   "metadata": {},
   "source": [
    "#### Compiling our Graph"
   ]
  },
  {
   "cell_type": "code",
   "execution_count": 12,
   "id": "05145f47-14d1-4526-8970-9613b70a075e",
   "metadata": {},
   "outputs": [
    {
     "name": "stdout",
     "output_type": "stream",
     "text": [
      "Requirement already satisfied: langgraph in /home/aditya/python-env/lib/python3.12/site-packages (0.2.3)\n",
      "Requirement already satisfied: langchain-core<0.3,>=0.2.27 in /home/aditya/python-env/lib/python3.12/site-packages (from langgraph) (0.2.29)\n",
      "Requirement already satisfied: langgraph-checkpoint<2.0.0,>=1.0.2 in /home/aditya/python-env/lib/python3.12/site-packages (from langgraph) (1.0.2)\n",
      "Requirement already satisfied: PyYAML>=5.3 in /home/aditya/python-env/lib/python3.12/site-packages (from langchain-core<0.3,>=0.2.27->langgraph) (6.0.2)\n",
      "Requirement already satisfied: jsonpatch<2.0,>=1.33 in /home/aditya/python-env/lib/python3.12/site-packages (from langchain-core<0.3,>=0.2.27->langgraph) (1.33)\n",
      "Requirement already satisfied: langsmith<0.2.0,>=0.1.75 in /home/aditya/python-env/lib/python3.12/site-packages (from langchain-core<0.3,>=0.2.27->langgraph) (0.1.98)\n",
      "Requirement already satisfied: packaging<25,>=23.2 in /home/aditya/python-env/lib/python3.12/site-packages (from langchain-core<0.3,>=0.2.27->langgraph) (24.1)\n",
      "Requirement already satisfied: pydantic<3,>=1 in /home/aditya/python-env/lib/python3.12/site-packages (from langchain-core<0.3,>=0.2.27->langgraph) (2.8.2)\n",
      "Requirement already satisfied: tenacity!=8.4.0,<9.0.0,>=8.1.0 in /home/aditya/python-env/lib/python3.12/site-packages (from langchain-core<0.3,>=0.2.27->langgraph) (8.5.0)\n",
      "Requirement already satisfied: typing-extensions>=4.7 in /home/aditya/python-env/lib/python3.12/site-packages (from langchain-core<0.3,>=0.2.27->langgraph) (4.12.2)\n",
      "Requirement already satisfied: jsonpointer>=1.9 in /home/aditya/python-env/lib/python3.12/site-packages (from jsonpatch<2.0,>=1.33->langchain-core<0.3,>=0.2.27->langgraph) (3.0.0)\n",
      "Requirement already satisfied: orjson<4.0.0,>=3.9.14 in /home/aditya/python-env/lib/python3.12/site-packages (from langsmith<0.2.0,>=0.1.75->langchain-core<0.3,>=0.2.27->langgraph) (3.10.7)\n",
      "Requirement already satisfied: requests<3,>=2 in /home/aditya/python-env/lib/python3.12/site-packages (from langsmith<0.2.0,>=0.1.75->langchain-core<0.3,>=0.2.27->langgraph) (2.32.3)\n",
      "Requirement already satisfied: annotated-types>=0.4.0 in /home/aditya/python-env/lib/python3.12/site-packages (from pydantic<3,>=1->langchain-core<0.3,>=0.2.27->langgraph) (0.7.0)\n",
      "Requirement already satisfied: pydantic-core==2.20.1 in /home/aditya/python-env/lib/python3.12/site-packages (from pydantic<3,>=1->langchain-core<0.3,>=0.2.27->langgraph) (2.20.1)\n",
      "Requirement already satisfied: charset-normalizer<4,>=2 in /home/aditya/python-env/lib/python3.12/site-packages (from requests<3,>=2->langsmith<0.2.0,>=0.1.75->langchain-core<0.3,>=0.2.27->langgraph) (3.3.2)\n",
      "Requirement already satisfied: idna<4,>=2.5 in /home/aditya/python-env/lib/python3.12/site-packages (from requests<3,>=2->langsmith<0.2.0,>=0.1.75->langchain-core<0.3,>=0.2.27->langgraph) (3.7)\n",
      "Requirement already satisfied: urllib3<3,>=1.21.1 in /home/aditya/python-env/lib/python3.12/site-packages (from requests<3,>=2->langsmith<0.2.0,>=0.1.75->langchain-core<0.3,>=0.2.27->langgraph) (2.2.2)\n",
      "Requirement already satisfied: certifi>=2017.4.17 in /home/aditya/python-env/lib/python3.12/site-packages (from requests<3,>=2->langsmith<0.2.0,>=0.1.75->langchain-core<0.3,>=0.2.27->langgraph) (2024.7.4)\n"
     ]
    },
    {
     "ename": "ModuleNotFoundError",
     "evalue": "No module named 'langraph'",
     "output_type": "error",
     "traceback": [
      "\u001b[0;31m---------------------------------------------------------------------------\u001b[0m",
      "\u001b[0;31mModuleNotFoundError\u001b[0m                       Traceback (most recent call last)",
      "Cell \u001b[0;32mIn[12], line 2\u001b[0m\n\u001b[1;32m      1\u001b[0m get_ipython()\u001b[38;5;241m.\u001b[39msystem(\u001b[38;5;124m'\u001b[39m\u001b[38;5;124m pip install langgraph\u001b[39m\u001b[38;5;124m'\u001b[39m)\n\u001b[0;32m----> 2\u001b[0m \u001b[38;5;28;01mfrom\u001b[39;00m \u001b[38;5;21;01mlangraph\u001b[39;00m\u001b[38;5;21;01m.\u001b[39;00m\u001b[38;5;21;01mgraph\u001b[39;00m \u001b[38;5;28;01mimport\u001b[39;00m StateGraph\n\u001b[1;32m      4\u001b[0m workflow \u001b[38;5;241m=\u001b[39m StateGraph(GraphState)\n\u001b[1;32m      6\u001b[0m \u001b[38;5;66;03m# Set an entry point\u001b[39;00m\n",
      "\u001b[0;31mModuleNotFoundError\u001b[0m: No module named 'langraph'"
     ]
    }
   ],
   "source": [
    "! pip install langgraph\n",
    "from langraph.graph import StateGraph\n",
    "\n",
    "workflow = StateGraph(GraphState)\n",
    "\n",
    "# Set an entry point\n",
    "\n",
    "workflow.set_entry_point(\"decider\")\n",
    "\n",
    "# Define our nodes\n",
    "\n",
    "workflow.add_conditional_edges(\"decider\", decider)\n",
    "workflow.add_conditional_edges(\"node 1\", reassign1)\n",
    "workflow.add_conditional_edges(\"node 2\", reassign2)\n",
    "\n",
    "workflow.compile()"
   ]
  },
  {
   "cell_type": "markdown",
   "id": "ec085e34-fa6e-4cd9-b668-832c4cdbc7ef",
   "metadata": {},
   "source": [
    "#### Visualizing our Graph"
   ]
  },
  {
   "cell_type": "code",
   "execution_count": null,
   "id": "77103139-f83d-4f68-969c-f695d0e4581b",
   "metadata": {},
   "outputs": [],
   "source": [
    "# Visualizing our graph "
   ]
  }
 ],
 "metadata": {
  "kernelspec": {
   "display_name": "Python 3 (ipykernel)",
   "language": "python",
   "name": "python3"
  },
  "language_info": {
   "codemirror_mode": {
    "name": "ipython",
    "version": 3
   },
   "file_extension": ".py",
   "mimetype": "text/x-python",
   "name": "python",
   "nbconvert_exporter": "python",
   "pygments_lexer": "ipython3",
   "version": "3.12.3"
  }
 },
 "nbformat": 4,
 "nbformat_minor": 5
}
