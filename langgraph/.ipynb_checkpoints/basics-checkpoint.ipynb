{
 "cells": [
  {
   "cell_type": "markdown",
   "id": "5d716ffc-bf08-4411-bd49-3dd8a0182e9f",
   "metadata": {},
   "source": [
    "### Langgraph basics "
   ]
  },
  {
   "cell_type": "code",
   "execution_count": 13,
   "id": "4339a485-acc3-4e55-809b-ebe19f5477ff",
   "metadata": {},
   "outputs": [],
   "source": [
    "import langchain"
   ]
  },
  {
   "cell_type": "markdown",
   "id": "ec90c1d7-49d3-4bd8-a797-ce363787968b",
   "metadata": {},
   "source": [
    "#### Defining Agent State"
   ]
  },
  {
   "cell_type": "code",
   "execution_count": 14,
   "id": "9989d1a9-f34e-4346-a9d6-560cb7c394ac",
   "metadata": {},
   "outputs": [],
   "source": [
    "from typing import TypedDict\n",
    "\n",
    "class GraphState(TypedDict):\n",
    "    input: int\n",
    "    assigned_node: int\n",
    "    previous_node: str"
   ]
  },
  {
   "cell_type": "markdown",
   "id": "b368f9ea-9b9c-4d1e-893b-64677c0f1b0c",
   "metadata": {},
   "source": [
    "#### Defining our Nodes"
   ]
  },
  {
   "cell_type": "code",
   "execution_count": 15,
   "id": "8885261b-1c34-489c-ae07-e508cddd611b",
   "metadata": {},
   "outputs": [],
   "source": [
    "import random \n",
    "\n",
    "def decider(state: GraphState):\n",
    "    node_num = random.randint(1, 2)\n",
    "    return dict(input=state['input'],\n",
    "                assigned_node=node_num,\n",
    "                previous_node=\"manager\")\n",
    "\n",
    "def node1(state: GraphState):\n",
    "    return dict(input=state['input'],\n",
    "                assigned_node=1 if 'node 1' in state['input'] else 2,\n",
    "                previous_node=\"node 1\")\n",
    "\n",
    "def node2(state: GraphState):\n",
    "    return dict(input=state['input'],\n",
    "                assigned_node=2 if 'node 2' in state['input'] else 1,\n",
    "                previous_node=\"node 2\")\n"
   ]
  },
  {
   "cell_type": "markdown",
   "id": "c4801bda-3438-49f2-872d-ddadb90d037b",
   "metadata": {},
   "source": [
    "#### Defining our Edges"
   ]
  },
  {
   "cell_type": "code",
   "execution_count": 16,
   "id": "cf734b25-27b3-4faa-98b4-2d9c4c2bbdcb",
   "metadata": {},
   "outputs": [],
   "source": [
    "from typing import Literal\n",
    "from langgraph.graph import END\n",
    "\n",
    "def decider_node_assigner(state: GraphState) -> Literal['node 1', 'node 2']:\n",
    "    assigned_node = state['assigned_node']\n",
    "    if assigned_node == 1:\n",
    "        return \"node 1\"\n",
    "    else:\n",
    "        return \"node 2\"\n",
    "\n",
    "\n",
    "# Reassignment logic for node 1\n",
    "def reassign1(state: GraphState) -> Literal['node 2', END]:\n",
    "    assigned_node = state['assigned_node']\n",
    "    if assigned_node != 1:\n",
    "        return \"node 2\"\n",
    "    return END\n",
    "\n",
    "\n",
    "# Reassignment logic for node 2\n",
    "def reassign2(state: GraphState) -> Literal['node 1', END]:\n",
    "    if state['previous_node'] == \"node 2\":\n",
    "        return END\n",
    "    return \"node 1\"\n"
   ]
  },
  {
   "cell_type": "markdown",
   "id": "beff9288-0c6d-45ca-b05a-76f22c0e0153",
   "metadata": {},
   "source": [
    "#### Compiling our Graph"
   ]
  },
  {
   "cell_type": "code",
   "execution_count": 17,
   "id": "05145f47-14d1-4526-8970-9613b70a075e",
   "metadata": {},
   "outputs": [],
   "source": [
    "from langgraph.graph import StateGraph\n",
    "\n",
    "# Create the StateGraph instance\n",
    "workflow = StateGraph(GraphState)\n",
    "\n",
    "# Set an entry point\n",
    "workflow.set_entry_point(\"decider\")\n",
    "\n",
    "# Add nodes to the graph\n",
    "workflow.add_node(\"decider\", decider)\n",
    "workflow.add_node(\"node 1\", node1)\n",
    "workflow.add_node(\"node 2\", node2)\n",
    "\n",
    "# Add conditional edges to transition between nodes\n",
    "workflow.add_conditional_edges(\"decider\", decider_node_assigner)\n",
    "workflow.add_conditional_edges(\"node 1\", reassign1)\n",
    "workflow.add_conditional_edges(\"node 2\", reassign2)\n",
    "\n",
    "graph = workflow.compile()\n"
   ]
  },
  {
   "cell_type": "markdown",
   "id": "ec085e34-fa6e-4cd9-b668-832c4cdbc7ef",
   "metadata": {},
   "source": [
    "#### Visualizing our Graph"
   ]
  },
  {
   "cell_type": "code",
   "execution_count": 18,
   "id": "77103139-f83d-4f68-969c-f695d0e4581b",
   "metadata": {},
   "outputs": [
    {
     "data": {
      "image/jpeg": "[encoded data removed]",
      "text/plain": [
       "<IPython.core.display.Image object>"
      ]
     },
     "metadata": {},
     "output_type": "display_data"
    }
   ],
   "source": [
    "from IPython.display import Image, display\n",
    "\n",
    "display(Image(graph.get_graph(xray=True).draw_mermaid_png()))\n"
   ]
  },
  {
   "cell_type": "code",
   "execution_count": 19,
   "id": "efe95619-e9df-42f6-9b3f-2cb674ac3994",
   "metadata": {},
   "outputs": [
    {
     "name": "stdout",
     "output_type": "stream",
     "text": [
      "{'decider': {'input': HumanMessage(content='assign this to node 1'), 'assigned_node': 1, 'previous_node': 'manager'}}\n",
      "{'node 1': {'input': HumanMessage(content='assign this to node 1'), 'assigned_node': 2, 'previous_node': 'node 1'}}\n",
      "{'node 2': {'input': HumanMessage(content='assign this to node 1'), 'assigned_node': 1, 'previous_node': 'node 2'}}\n"
     ]
    }
   ],
   "source": [
    "from langchain_core.messages  import HumanMessage\n",
    "\n",
    "input_message = HumanMessage(content=\"assign this to node 1\")\n",
    "\n",
    "for event in graph.stream({\"input\": input_message}):\n",
    "    print(event) "
   ]
  },
  {
   "cell_type": "code",
   "execution_count": null,
   "id": "78a25a6c-8d6b-4747-9470-f8ab97cedb56",
   "metadata": {},
   "outputs": [],
   "source": []
  }
 ],
 "metadata": {
  "kernelspec": {
   "display_name": "Python 3 (ipykernel)",
   "language": "python",
   "name": "python3"
  },
  "language_info": {
   "codemirror_mode": {
    "name": "ipython",
    "version": 3
   },
   "file_extension": ".py",
   "mimetype": "text/x-python",
   "name": "python",
   "nbconvert_exporter": "python",
   "pygments_lexer": "ipython3",
   "version": "3.12.3"
  }
 },
 "nbformat": 4,
 "nbformat_minor": 5
}
