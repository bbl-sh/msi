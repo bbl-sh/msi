{
 "cells": [
  {
   "cell_type": "markdown",
   "id": "5d716ffc-bf08-4411-bd49-3dd8a0182e9f",
   "metadata": {},
   "source": [
    "### Langgraph basics "
   ]
  },
  {
   "cell_type": "code",
   "execution_count": 9,
   "id": "4339a485-acc3-4e55-809b-ebe19f5477ff",
   "metadata": {},
   "outputs": [],
   "source": [
    "import langchain"
   ]
  },
  {
   "cell_type": "markdown",
   "id": "ec90c1d7-49d3-4bd8-a797-ce363787968b",
   "metadata": {},
   "source": [
    "#### Creating Agent State"
   ]
  },
  {
   "cell_type": "code",
   "execution_count": null,
   "id": "9989d1a9-f34e-4346-a9d6-560cb7c394ac",
   "metadata": {},
   "outputs": [],
   "source": [
    "# Define our agent state \n",
    "\n",
    "\n"
   ]
  },
  {
   "cell_type": "markdown",
   "id": "b368f9ea-9b9c-4d1e-893b-64677c0f1b0c",
   "metadata": {},
   "source": [
    "#### Defining our Nodes"
   ]
  },
  {
   "cell_type": "code",
   "execution_count": null,
   "id": "8885261b-1c34-489c-ae07-e508cddd611b",
   "metadata": {},
   "outputs": [],
   "source": [
    "# Define our nodes "
   ]
  },
  {
   "cell_type": "markdown",
   "id": "c4801bda-3438-49f2-872d-ddadb90d037b",
   "metadata": {},
   "source": [
    "#### Defining our Edges"
   ]
  },
  {
   "cell_type": "code",
   "execution_count": null,
   "id": "cf734b25-27b3-4faa-98b4-2d9c4c2bbdcb",
   "metadata": {},
   "outputs": [],
   "source": [
    "# Define our edges"
   ]
  },
  {
   "cell_type": "markdown",
   "id": "beff9288-0c6d-45ca-b05a-76f22c0e0153",
   "metadata": {},
   "source": [
    "#### Compiling our Graph"
   ]
  },
  {
   "cell_type": "code",
   "execution_count": null,
   "id": "05145f47-14d1-4526-8970-9613b70a075e",
   "metadata": {},
   "outputs": [],
   "source": [
    "# Compiling our graph"
   ]
  },
  {
   "cell_type": "markdown",
   "id": "ec085e34-fa6e-4cd9-b668-832c4cdbc7ef",
   "metadata": {},
   "source": [
    "#### Visualizing our Graph"
   ]
  },
  {
   "cell_type": "code",
   "execution_count": null,
   "id": "77103139-f83d-4f68-969c-f695d0e4581b",
   "metadata": {},
   "outputs": [],
   "source": [
    "# Visualizing our graph "
   ]
  }
 ],
 "metadata": {
  "kernelspec": {
   "display_name": "Python 3 (ipykernel)",
   "language": "python",
   "name": "python3"
  },
  "language_info": {
   "codemirror_mode": {
    "name": "ipython",
    "version": 3
   },
   "file_extension": ".py",
   "mimetype": "text/x-python",
   "name": "python",
   "nbconvert_exporter": "python",
   "pygments_lexer": "ipython3",
   "version": "3.12.3"
  }
 },
 "nbformat": 4,
 "nbformat_minor": 5
}
